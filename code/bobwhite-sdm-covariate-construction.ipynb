{
 "cells": [
  {
   "attachments": {},
   "cell_type": "markdown",
   "metadata": {},
   "source": [
    "## Deriving covariates across the northern bobwhite range\n"
   ]
  },
  {
   "cell_type": "code",
   "execution_count": 1,
   "metadata": {},
   "outputs": [],
   "source": [
    "from datetime import date\n",
    "today = date.today()\n",
    "import ee\n",
    "import math\n",
    "import geemap\n",
    "import numpy as np\n",
    "import pandas as pd\n",
    "import os\n",
    "\n",
    "\n",
    "# Initialize ee and authenticate \n",
    "#ee.Authenticate()\n",
    "ee.Initialize()\n"
   ]
  },
  {
   "attachments": {},
   "cell_type": "markdown",
   "metadata": {},
   "source": [
    "\n",
    "# Important Information\n",
    "\n",
    "## Script name: \n",
    "\n",
    "## Purpose of script:\n",
    "This is a preliminary script for deriving covariates across the northern bobwhite range for use in the construction of a species distribution model.\n",
    "## Author: \n",
    "Patrick Freeman (CSP)\n",
    "## Date Created: \n",
    "03/15/23\n",
    "## Date last modified:\n",
    "print('Last Updated On: ', datetime.datetime.now())\n",
    "## Email: \n",
    "patrick[at]csp-inc.org\n",
    "## ---------------------------\n",
    "## Notes:\n",
    "\n",
    "## ---------------------------"
   ]
  },
  {
   "cell_type": "code",
   "execution_count": null,
   "metadata": {},
   "outputs": [],
   "source": [
    "#install geemap module as needed\n",
    "#!pip install geemap "
   ]
  },
  {
   "cell_type": "code",
   "execution_count": 1,
   "metadata": {},
   "outputs": [],
   "source": [
    "import os\n",
    "import ee\n",
    "import geemap"
   ]
  },
  {
   "cell_type": "code",
   "execution_count": 2,
   "metadata": {},
   "outputs": [
    {
     "data": {
      "text/html": [
       "<p>To authorize access needed by Earth Engine, open the following\n",
       "        URL in a web browser and follow the instructions:</p>\n",
       "        <p><a href=https://code.earthengine.google.com/client-auth?scopes=https%3A//www.googleapis.com/auth/earthengine%20https%3A//www.googleapis.com/auth/devstorage.full_control&request_id=Fa6urBC6KRVuV9LdYT4YOwdkiBylmdIGcAx0eM6Bd_g&tc=EIGykcAavMqyK6N6nZwYPsfrSYQYo0STyEn7ZvkHc6Y&cc=rh_5mX1KYr6ReQuPAAQDmBkgw2kS-zG07MWjfSpmcao>https://code.earthengine.google.com/client-auth?scopes=https%3A//www.googleapis.com/auth/earthengine%20https%3A//www.googleapis.com/auth/devstorage.full_control&request_id=Fa6urBC6KRVuV9LdYT4YOwdkiBylmdIGcAx0eM6Bd_g&tc=EIGykcAavMqyK6N6nZwYPsfrSYQYo0STyEn7ZvkHc6Y&cc=rh_5mX1KYr6ReQuPAAQDmBkgw2kS-zG07MWjfSpmcao</a></p>\n",
       "        <p>The authorization workflow will generate a code, which you should paste in the box below.</p>\n",
       "        "
      ],
      "text/plain": [
       "<IPython.core.display.HTML object>"
      ]
     },
     "metadata": {},
     "output_type": "display_data"
    },
    {
     "name": "stdout",
     "output_type": "stream",
     "text": [
      "\n",
      "Successfully saved authorization token.\n"
     ]
    }
   ],
   "source": [
    "ee.Authenticate()\n",
    "ee.Initialize()"
   ]
  },
  {
   "attachments": {},
   "cell_type": "markdown",
   "metadata": {},
   "source": [
    "# Write utility functions"
   ]
  },
  {
   "cell_type": "code",
   "execution_count": 2,
   "metadata": {},
   "outputs": [],
   "source": [
    "# FUNCTIONS\n",
    "\n",
    "# Focal mean\n",
    "def focal_mean(image, radius, unit, name):\n",
    "    names = image.bandNames().getInfo()\n",
    "    new_names = [s + name for s in names]\n",
    "    return image.reduceNeighborhood(kernel = ee.Kernel.circle(radius, unit),\n",
    "                                    reducer = ee.Reducer.mean()).rename(new_names)\n",
    "\n",
    "# Focal median\n",
    "def focal_median(image, radius, unit):\n",
    "    return image.reduceNeighborhood(kernel = ee.Kernel.circle(radius, unit),\n",
    "                                    reducer = ee.Reducer.median())\n",
    "    \n",
    "# Focal SD\n",
    "def focal_sd(image, radius, unit):\n",
    "    return image.reduceNeighborhood(kernel = ee.Kernel.circle(radius, unit),\n",
    "                                    reducer = ee.Reducer.stdDev())\n",
    "\n",
    "# Focal sum\n",
    "def focal_sum(image, radius, unit):\n",
    "    return image.reduceNeighborhood(kernel = ee.Kernel.circle(radius, unit, False),\n",
    "                                    reducer = ee.Reducer.sum())\n",
    "\n",
    "# Focal count\n",
    "def focal_count(image, radius, unit):\n",
    "    return image.reduceNeighborhood(kernel = ee.Kernel.circle(radius, unit, False),\n",
    "                                    reducer = ee.Reducer.count())\n",
    "    \n",
    "# Percent cover\n",
    "def percent_cov(image, radius, unit, name):\n",
    "    names = image.bandNames().getInfo()\n",
    "    new_names = [s + name for s in names]\n",
    "    isum = focal_sum(image, radius, unit)\n",
    "    icount = focal_count(image, radius, unit)\n",
    "    return isum.divide(icount).rename(new_names)\n",
    "\n",
    "def toFloat(img):\n",
    "    return img.float()"
   ]
  },
  {
   "attachments": {},
   "cell_type": "markdown",
   "metadata": {},
   "source": [
    "# Set aoi, spatial scale and projection of export, and smoothing parameters"
   ]
  },
  {
   "cell_type": "code",
   "execution_count": 3,
   "metadata": {},
   "outputs": [],
   "source": [
    "## Bring in buffered range map as 'region' \n",
    "region = ee.FeatureCollection('projects/GEE_CSP/pf-bobwhite/bobwhite_model_states')\n",
    "geometry = ee.Feature(ee.FeatureCollection(region).first())\n",
    "conus_geom = ee.FeatureCollection(\"projects/GEE_CSP/thirty-by-thirty/aoi_conus\")\n",
    "conus_img = ee.Image(\"projects/GEE_CSP/thirty-by-thirty/aoi_conus_mask\")\n",
    "\n",
    "# export scale and projection\n",
    "scale = 250\n",
    "projection = ee.Projection('EPSG:5070') # stand-in for now. Figure out best projection to use \n",
    "\n",
    "# Choose radii for summarizing covariates\n",
    "rad_large = 10000\n",
    "rad_small = 5000\n",
    "name_large = \"_10km\"\n",
    "name_small = \"_5km\"\n",
    "\n",
    "## Plot to check \n",
    "#Map = geemap.Map(center=(40, -100), zoom=4)\n",
    "#Map.addLayer(geometry, {}, \"Model states\", True)\n",
    "#Map\n"
   ]
  },
  {
   "attachments": {},
   "cell_type": "markdown",
   "metadata": {},
   "source": [
    "# CSP-derived land use intensity layers related to agriculture, transportation, urban development, and energy infrastructure"
   ]
  },
  {
   "cell_type": "code",
   "execution_count": 4,
   "metadata": {},
   "outputs": [
    {
     "name": "stdout",
     "output_type": "stream",
     "text": [
      "lui Band names: ['Ag', 'Urban', 'Transport', 'Energy']\n",
      "lui_focal_means Band names: ['Ag_10km', 'Urban_10km', 'Transport_10km', 'Energy_10km']\n"
     ]
    }
   ],
   "source": [
    "lui = ee.Image(\"projects/GEE_CSP/aft-connectivity/Land-use-intensity-multiband-focal-sp-250m-20220123\")\n",
    "\n",
    "### Get the band names as a check \n",
    "lui_names = lui.bandNames()\n",
    "print('lui Band names:', lui_names.getInfo())  # ee.List of band names\n",
    "lui_focal_means_large = focal_mean(lui, rad_large, \"meters\", name_large).updateMask(conus_img).clip(geometry)\n",
    "lui_focal_means_small = focal_mean(lui, rad_small, \"meters\", name_small).updateMask(conus_img).clip(geometry)\n",
    "\n",
    "### Get the band names as a check \n",
    "lui_focal_means_names = lui_focal_means_large.bandNames()\n",
    "print('lui_focal_means Band names:', lui_focal_means_names.getInfo())  # ee.List of band names"
   ]
  },
  {
   "attachments": {},
   "cell_type": "markdown",
   "metadata": {},
   "source": [
    "# RAP Proportional Cover"
   ]
  },
  {
   "cell_type": "code",
   "execution_count": 5,
   "metadata": {},
   "outputs": [
    {
     "name": "stdout",
     "output_type": "stream",
     "text": [
      "rap_cover_2016 Band names: ['2016_AFG', '2016_PFG', '2016_SHR', '2016_TRE', '2016_BGR', '2017_AFG', '2017_PFG', '2017_SHR', '2017_TRE', '2017_BGR', '2018_AFG', '2018_PFG', '2018_SHR', '2018_TRE', '2018_BGR', '2019_AFG', '2019_PFG', '2019_SHR', '2019_TRE', '2019_BGR', '2021_AFG', '2021_PFG', '2021_SHR', '2021_TRE', '2021_BGR']\n",
      "rap_cover_all_small Band names: ['2016_AFG_5km', '2016_PFG_5km', '2016_SHR_5km', '2016_TRE_5km', '2016_BGR_5km', '2017_AFG_5km', '2017_PFG_5km', '2017_SHR_5km', '2017_TRE_5km', '2017_BGR_5km', '2018_AFG_5km', '2018_PFG_5km', '2018_SHR_5km', '2018_TRE_5km', '2018_BGR_5km', '2019_AFG_5km', '2019_PFG_5km', '2019_SHR_5km', '2019_TRE_5km', '2019_BGR_5km', '2021_AFG_5km', '2021_PFG_5km', '2021_SHR_5km', '2021_TRE_5km', '2021_BGR_5km']\n"
     ]
    }
   ],
   "source": [
    "geometry = ee.Feature(ee.FeatureCollection(\"projects/GEE_CSP/pf-bobwhite/bobwhite_model_states\").first());\n",
    "##---------- Define the years that you want to export --------------\n",
    "##---------- End year is inclusive in this case  ------------------\n",
    "yearStart = 2016\n",
    "yearEnd = 2021\n",
    "\n",
    "## -------------- Define the plant functional types (PFTs) that you want to export --------------\n",
    "## PFTs are \"AFGC\" (Annual forb and grass cover), \"BG\" (bare ground), \"LTR\" (litter), \n",
    "## \"PFGC\" (perennial forb and grass cover), \"SHR\" (shrub cover), and \"TREE\" (tree cover)\n",
    "## Select Annual forb and grass cover, perennial forb and grass cover, shrub cover, and tree cover \n",
    "PFTs = ee.List(['AFG', 'PFG', 'SHR', 'TRE', 'BGR']);\n",
    "\n",
    "cover = ee.ImageCollection(\"projects/rangeland-analysis-platform/vegetation-cover-v3\")\n",
    "## ------------- Select the PFTs for processing as defined by User  --------------\n",
    "cover_toExport = cover.select(PFTs)\n",
    "\n",
    "\n",
    "### Filter RAP cover ImageCollection into yearly sets\n",
    "rap_cover_2016 = cover_toExport.filter(ee.Filter.inList('year', ee.List([2016]))).toBands()\n",
    "rap_cover_2017 = cover_toExport.filter(ee.Filter.inList('year', ee.List([2017]))).toBands()\n",
    "rap_cover_2018 = cover_toExport.filter(ee.Filter.inList('year', ee.List([2018]))).toBands()\n",
    "rap_cover_2019 = cover_toExport.filter(ee.Filter.inList('year', ee.List([2019]))).toBands()\n",
    "rap_cover_2021 = cover_toExport.filter(ee.Filter.inList('year', ee.List([2021]))).toBands()\n",
    "\n",
    "### Combine all into single multiband image \n",
    "rap_cover_all = ee.Image([rap_cover_2016, rap_cover_2017, rap_cover_2018, rap_cover_2019, rap_cover_2021])\n",
    "\n",
    "rap_cover_all_band_names = rap_cover_all.bandNames()\n",
    "print('rap_cover_2016 Band names:', rap_cover_all_band_names.getInfo())  # ee.List of band names\n",
    "\n",
    "### Apply focal mean smoothing\n",
    "rap_cover_all_small = focal_mean(rap_cover_all, rad_small, \"meters\", name_small).clip(geometry)\n",
    "rap_cover_all_small_band_names = rap_cover_all_small.bandNames()\n",
    "print('rap_cover_all_small Band names:', rap_cover_all_small_band_names.getInfo())  # ee.List of band names\n",
    "\n"
   ]
  },
  {
   "attachments": {},
   "cell_type": "markdown",
   "metadata": {},
   "source": [
    "# Climate covariates from Daymet"
   ]
  },
  {
   "cell_type": "code",
   "execution_count": 6,
   "metadata": {},
   "outputs": [],
   "source": [
    "### Load daymet dataset \n",
    "daymet_17 = ee.ImageCollection(\"NASA/ORNL/DAYMET_V4\").filter(ee.Filter.date('2017-01-01', '2017-12-31'))\n",
    "daymet_18 = ee.ImageCollection(\"NASA/ORNL/DAYMET_V4\").filter(ee.Filter.date('2018-01-01', '2018-12-31'))\n",
    "daymet_19 = ee.ImageCollection(\"NASA/ORNL/DAYMET_V4\").filter(ee.Filter.date('2019-01-01', '2019-12-31'))\n",
    "daymet_21 = ee.ImageCollection(\"NASA/ORNL/DAYMET_V4\").filter(ee.Filter.date('2021-01-01', '2021-12-31'))\n",
    "\n",
    "\n",
    "### mean daily max temperature\n",
    "tmax_17 = daymet_17.select(\"tmax\").mean().clip(geometry).rename(['tmax_17'])\n",
    "tmax_18 = daymet_18.select(\"tmax\").mean().clip(geometry).rename(['tmax_18'])\n",
    "tmax_19 = daymet_19.select(\"tmax\").mean().clip(geometry).rename(['tmax_19'])\n",
    "tmax_21 = daymet_21.select(\"tmax\").mean().clip(geometry).rename(['tmax_21'])\n",
    "\n",
    "### mean daily min temperature\n",
    "tmin_17 = daymet_17.select(\"tmin\").mean().clip(geometry).rename(['tmin_17'])\n",
    "tmin_18 = daymet_18.select(\"tmin\").mean().clip(geometry).rename(['tmin_18'])\n",
    "tmin_19 = daymet_19.select(\"tmin\").mean().clip(geometry).rename(['tmin_19'])\n",
    "tmin_21 = daymet_21.select(\"tmin\").mean().clip(geometry).rename(['tmin_21'])\n",
    "\n",
    "### mean daily precip\n",
    "prcp_17 = daymet_17.select(\"prcp\").mean().clip(geometry).rename(['prcp_17'])\n",
    "prcp_18 = daymet_18.select(\"prcp\").mean().clip(geometry).rename(['prcp_18'])\n",
    "prcp_19 = daymet_19.select(\"prcp\").mean().clip(geometry).rename(['prcp_19'])\n",
    "prcp_21 = daymet_21.select(\"prcp\").mean().clip(geometry).rename(['prcp_21'])\n",
    "\n",
    "### mean daily snow water equivalent\n",
    "swe_17 = daymet_17.select(\"swe\").mean().clip(geometry).rename(['swe_17'])\n",
    "swe_18 = daymet_18.select(\"swe\").mean().clip(geometry).rename(['swe_18'])\n",
    "swe_19 = daymet_19.select(\"swe\").mean().clip(geometry).rename(['swe_19'])\n",
    "swe_21 = daymet_21.select(\"swe\").mean().clip(geometry).rename(['swe_21'])\n",
    "\n",
    "climate_all = ee.Image([tmax_17, tmax_18, tmax_19, tmax_21, tmin_17, tmin_18, tmin_19, tmin_21, \n",
    "                        prcp_17, prcp_18, prcp_19, prcp_21, swe_17, swe_18, swe_19, swe_21])\n",
    "\n",
    "climate_small = focal_mean(climate_all, rad_small, \"meters\", name_small).updateMask(conus_img).clip(geometry)\n",
    "\n"
   ]
  },
  {
   "attachments": {},
   "cell_type": "markdown",
   "metadata": {},
   "source": [
    "# SNODAS Snow Depth Data"
   ]
  },
  {
   "cell_type": "code",
   "execution_count": 16,
   "metadata": {},
   "outputs": [
    {
     "name": "stdout",
     "output_type": "stream",
     "text": [
      "Snodas data band names: ['snodays_17_5km', 'snodays_18_5km', 'snodays_19_5km', 'snodays_21_5km']\n"
     ]
    }
   ],
   "source": [
    "snodas_17 = ee.Image(\"projects/GEE_CSP/pf-bobwhite/SNODAS/snodas_days_snowdepth_2017_WGS84\").rename('snodays_17')\n",
    "snodas_18 = ee.Image(\"projects/GEE_CSP/pf-bobwhite/SNODAS/snodas_days_snowdepth_2018_WGS84\").rename('snodays_18')\n",
    "snodas_19 = ee.Image(\"projects/GEE_CSP/pf-bobwhite/SNODAS/snodas_days_snowdepth_2019_WGS84\").rename('snodays_19')\n",
    "snodas_21 = ee.Image(\"projects/GEE_CSP/pf-bobwhite/SNODAS/snodas_days_snowdepth_2021_WGS84\").rename('snodays_21')\n",
    "\n",
    "snodas_all = ee.Image([snodas_17, snodas_18, snodas_19, snodas_21])\n",
    "\n",
    "snodas_small = focal_mean(snodas_all, rad_small, \"meters\", name_small).clip(geometry)\n",
    "snodas_small_band_names = snodas_small.bandNames()\n",
    "print('Snodas data band names:', snodas_small_band_names.getInfo())  # ee.List of band names\n"
   ]
  },
  {
   "attachments": {},
   "cell_type": "markdown",
   "metadata": {},
   "source": [
    "# NASS and CRP Stats on Farm Size and Proportion of County Land in CRP categories positive for bobwhite"
   ]
  },
  {
   "cell_type": "code",
   "execution_count": 17,
   "metadata": {},
   "outputs": [],
   "source": [
    "avg_farm_size = ee.Image(\"projects/GEE_CSP/pf-bobwhite/NASS_CRP/nass_2017_average_farm_size\").rename('avg_farm_size_17')\n",
    "prop_crp = ee.Image(\"projects/GEE_CSP/pf-bobwhite/NASS_CRP/proportion-county-land-crp-2020\").rename('prop_crp_acres_20')\n",
    "\n",
    "nass_crp_all = ee.Image([avg_farm_size, prop_crp])"
   ]
  },
  {
   "attachments": {},
   "cell_type": "markdown",
   "metadata": {},
   "source": [
    "# Bring all covariates together into a single projection"
   ]
  },
  {
   "cell_type": "code",
   "execution_count": 18,
   "metadata": {},
   "outputs": [],
   "source": [
    "lui_prep = lui_focal_means_small.reproject(crs=projection, scale=5000)\n",
    "rap_prep = rap_cover_all_small.reproject(crs=projection, scale=5000)\n",
    "climate_prep = climate_small.reproject(crs=projection, scale=5000)\n",
    "snodas_prep = snodas_all.reproject(crs=projection, scale=5000)\n",
    "nass_crp_prep = nass_crp_all.reproject(crs=projection,scale=5000)\n",
    "\n",
    "covs = ee.Image([lui_prep, rap_prep, climate_prep, snodas_prep, nass_crp_prep])\n"
   ]
  },
  {
   "cell_type": "code",
   "execution_count": null,
   "metadata": {},
   "outputs": [],
   "source": [
    "\n",
    "vis_params = {\n",
    "    'bands': 'Ag_5km',\n",
    "    'min': 0,\n",
    "    'max': 1,\n",
    "    'palette': ['006633', 'E5FFCC', '662A00', 'D8D8D8', 'F5F5F5'],\n",
    "}\n",
    "## Plot to check \n",
    "Map = geemap.Map(center=(40, -100), zoom=4)\n",
    "Map.addLayer(lui.prep, vis_params, \"LUI reprojected\", True)\n",
    "Map.addLayer(lui_focal_means_small, vis_params, \"LUI original\", False)\n",
    "Map\n"
   ]
  },
  {
   "attachments": {},
   "cell_type": "markdown",
   "metadata": {},
   "source": [
    "# Extract random point data for assessment of covariate correlation"
   ]
  },
  {
   "cell_type": "code",
   "execution_count": 19,
   "metadata": {},
   "outputs": [
    {
     "name": "stdout",
     "output_type": "stream",
     "text": [
      "/Users/patrickfreeman-csp/Downloads\n",
      "Generating URL ...\n",
      "Downloading data from https://earthengine.googleapis.com/v1alpha/projects/earthengine-legacy/tables/8832afed8f7d9dd20c6f268f44c94532-ec3f3a21ab3b81d97ebfedb85e2bbc16:getFeatures\n",
      "Please wait ...\n",
      "Data downloaded to /Users/patrickfreeman-csp/Downloads/randomPtsCovs.csv\n"
     ]
    }
   ],
   "source": [
    "# Extract local covariate values from multi-band predictor image at 5000 random points\n",
    "randomPts = ee.FeatureCollection.randomPoints(region.geometry(), 5000)\n",
    "work_dir = os.path.expanduser('~/Downloads')\n",
    "print(work_dir)\n",
    "out_csv = os.path.join(work_dir, 'randomPtsCovs.csv')\n",
    "extraction = geemap.extract_values_to_points(randomPts, covs, out_csv)\n"
   ]
  },
  {
   "cell_type": "code",
   "execution_count": null,
   "metadata": {},
   "outputs": [],
   "source": []
  }
 ],
 "metadata": {
  "kernelspec": {
   "display_name": "base",
   "language": "python",
   "name": "python3"
  },
  "language_info": {
   "codemirror_mode": {
    "name": "ipython",
    "version": 3
   },
   "file_extension": ".py",
   "mimetype": "text/x-python",
   "name": "python",
   "nbconvert_exporter": "python",
   "pygments_lexer": "ipython3",
   "version": "3.9.5"
  },
  "orig_nbformat": 4
 },
 "nbformat": 4,
 "nbformat_minor": 2
}
