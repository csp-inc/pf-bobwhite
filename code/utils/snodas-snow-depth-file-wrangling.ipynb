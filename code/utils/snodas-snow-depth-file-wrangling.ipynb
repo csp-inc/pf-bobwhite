{
 "cells": [
  {
   "attachments": {},
   "cell_type": "markdown",
   "metadata": {},
   "source": [
    "## Script name: snodas-snow-depth-file-wrangling.ipynb\n",
    "##\n",
    "## Purpose of script:Extracting only necessary files describing snow depth from SNODAS data download and placing them in a 'keep' folder for further processing \n",
    "##\n",
    "## Author: Patrick T. Freeman + Alex Robillard \n",
    "##\n",
    "## Date Created: 2023-03-16\n",
    "## Date last updated: 2023-03-16\n",
    "##\n",
    "## Email contact: patrick[at]csp-inc.org"
   ]
  },
  {
   "cell_type": "code",
   "execution_count": 26,
   "metadata": {},
   "outputs": [
    {
     "name": "stdout",
     "output_type": "stream",
     "text": [
      "us_ssmv11036tS__T0001TTNATS2019121305HP001.txt.gz has been copied.\n",
      "us_ssmv11036tS__T0001TTNATS2019120905HP001.dat.gz has been copied.\n",
      "us_ssmv11036tS__T0001TTNATS2019120405HP001.txt.gz has been copied.\n",
      "us_ssmv11036tS__T0001TTNATS2019122705HP001.dat.gz has been copied.\n",
      "us_ssmv11036tS__T0001TTNATS2019123005HP001.dat.gz has been copied.\n",
      "us_ssmv11036tS__T0001TTNATS2019121705HP001.txt.gz has been copied.\n",
      "us_ssmv11036tS__T0001TTNATS2019122305HP001.dat.gz has been copied.\n",
      "us_ssmv11036tS__T0001TTNATS2019120705HP001.txt.gz has been copied.\n",
      "us_ssmv11036tS__T0001TTNATS2019121005HP001.txt.gz has been copied.\n",
      "us_ssmv11036tS__T0001TTNATS2019122905HP001.txt.gz has been copied.\n",
      "us_ssmv11036tS__T0001TTNATS2019122405HP001.dat.gz has been copied.\n",
      "us_ssmv11036tS__T0001TTNATS2019121405HP001.txt.gz has been copied.\n",
      "us_ssmv11036tS__T0001TTNATS2019121905HP001.dat.gz has been copied.\n",
      "us_ssmv11036tS__T0001TTNATS2019120305HP001.txt.gz has been copied.\n",
      "us_ssmv11036tS__T0001TTNATS2019122005HP001.dat.gz has been copied.\n",
      "us_ssmv11036tS__T0001TTNATS2019120905HP001.txt.gz has been copied.\n",
      "us_ssmv11036tS__T0001TTNATS2019120405HP001.dat.gz has been copied.\n",
      "us_ssmv11036tS__T0001TTNATS2019121305HP001.dat.gz has been copied.\n",
      "us_ssmv11036tS__T0001TTNATS2019123005HP001.txt.gz has been copied.\n",
      "us_ssmv11036tS__T0001TTNATS2019122705HP001.txt.gz has been copied.\n",
      "us_ssmv11036tS__T0001TTNATS2019121705HP001.dat.gz has been copied.\n",
      "us_ssmv11036tS__T0001TTNATS2019122305HP001.txt.gz has been copied.\n",
      "us_ssmv11036tS__T0001TTNATS2019121005HP001.dat.gz has been copied.\n",
      "us_ssmv11036tS__T0001TTNATS2019120705HP001.dat.gz has been copied.\n",
      "us_ssmv11036tS__T0001TTNATS2019122905HP001.dat.gz has been copied.\n",
      "us_ssmv11036tS__T0001TTNATS2019122405HP001.txt.gz has been copied.\n",
      "us_ssmv11036tS__T0001TTNATS2019120305HP001.dat.gz has been copied.\n",
      "us_ssmv11036tS__T0001TTNATS2019121405HP001.dat.gz has been copied.\n",
      "us_ssmv11036tS__T0001TTNATS2019121905HP001.txt.gz has been copied.\n",
      "us_ssmv11036tS__T0001TTNATS2019122005HP001.txt.gz has been copied.\n",
      "us_ssmv11036tS__T0001TTNATS2019122105HP001.txt.gz has been copied.\n",
      "us_ssmv11036tS__T0001TTNATS2019121805HP001.txt.gz has been copied.\n",
      "us_ssmv11036tS__T0001TTNATS2019121505HP001.dat.gz has been copied.\n",
      "us_ssmv11036tS__T0001TTNATS2019120205HP001.dat.gz has been copied.\n",
      "us_ssmv11036tS__T0001TTNATS2019122505HP001.txt.gz has been copied.\n",
      "us_ssmv11036tS__T0001TTNATS2019122805HP001.dat.gz has been copied.\n",
      "us_ssmv11036tS__T0001TTNATS2019120605HP001.dat.gz has been copied.\n",
      "us_ssmv11036tS__T0001TTNATS2019121105HP001.dat.gz has been copied.\n",
      "us_ssmv11036tS__T0001TTNATS2019122205HP001.txt.gz has been copied.\n",
      "us_ssmv11036tS__T0001TTNATS2019120105HP001.dat.gz has been copied.\n",
      "us_ssmv11036tS__T0001TTNATS2019121605HP001.dat.gz has been copied.\n",
      "us_ssmv11036tS__T0001TTNATS2019122605HP001.txt.gz has been copied.\n",
      "us_ssmv11036tS__T0001TTNATS2019123105HP001.txt.gz has been copied.\n",
      "us_ssmv11036tS__T0001TTNATS2019121205HP001.dat.gz has been copied.\n",
      "us_ssmv11036tS__T0001TTNATS2019120505HP001.dat.gz has been copied.\n",
      "us_ssmv11036tS__T0001TTNATS2019120805HP001.txt.gz has been copied.\n",
      "us_ssmv11036tS__T0001TTNATS2019122105HP001.dat.gz has been copied.\n",
      "us_ssmv11036tS__T0001TTNATS2019120205HP001.txt.gz has been copied.\n",
      "us_ssmv11036tS__T0001TTNATS2019121805HP001.dat.gz has been copied.\n",
      "us_ssmv11036tS__T0001TTNATS2019121505HP001.txt.gz has been copied.\n",
      "us_ssmv11036tS__T0001TTNATS2019122505HP001.dat.gz has been copied.\n",
      "us_ssmv11036tS__T0001TTNATS2019122805HP001.txt.gz has been copied.\n",
      "us_ssmv11036tS__T0001TTNATS2019121105HP001.txt.gz has been copied.\n",
      "us_ssmv11036tS__T0001TTNATS2019120605HP001.txt.gz has been copied.\n",
      "us_ssmv11036tS__T0001TTNATS2019122205HP001.dat.gz has been copied.\n",
      "us_ssmv11036tS__T0001TTNATS2019121605HP001.txt.gz has been copied.\n",
      "us_ssmv11036tS__T0001TTNATS2019120105HP001.txt.gz has been copied.\n",
      "us_ssmv11036tS__T0001TTNATS2019123105HP001.dat.gz has been copied.\n",
      "us_ssmv11036tS__T0001TTNATS2019122605HP001.dat.gz has been copied.\n",
      "us_ssmv11036tS__T0001TTNATS2019120505HP001.txt.gz has been copied.\n",
      "us_ssmv11036tS__T0001TTNATS2019120805HP001.dat.gz has been copied.\n",
      "us_ssmv11036tS__T0001TTNATS2019121205HP001.txt.gz has been copied.\n"
     ]
    }
   ],
   "source": [
    "import os\n",
    "import shutil\n",
    "\n",
    "# Specify the path to the input and output folders\n",
    "input_folder = \"/Users/patrickfreeman-csp/Downloads/SNODAS_2019/12_Dec\"\n",
    "output_folder = \"/Users/patrickfreeman-csp/Downloads/SNODAS_2019/12_Dec/keep\"\n",
    "\n",
    "# Specify the prefix you want to extract\n",
    "prefix = \"us_ssmv11036tS_\"  # Replace \"prefix_\" with your desired prefix\n",
    "\n",
    "# Create the output folder if it doesn't exist\n",
    "if not os.path.exists(output_folder):\n",
    "    os.makedirs(output_folder)\n",
    "\n",
    "# Iterate over all the .gz files in the input folder\n",
    "for filename in os.listdir(input_folder):\n",
    "    if filename.endswith(\".gz\"):\n",
    "        # Check if the filename starts with the desired prefix\n",
    "        if filename.startswith(prefix):\n",
    "            # Copy the file to the output folder\n",
    "            shutil.copy2(os.path.join(input_folder, filename), output_folder)\n",
    "            print(f\"{filename} has been copied.\")"
   ]
  }
 ],
 "metadata": {
  "kernelspec": {
   "display_name": "base",
   "language": "python",
   "name": "python3"
  },
  "language_info": {
   "codemirror_mode": {
    "name": "ipython",
    "version": 3
   },
   "file_extension": ".py",
   "mimetype": "text/x-python",
   "name": "python",
   "nbconvert_exporter": "python",
   "pygments_lexer": "ipython3",
   "version": "3.9.5"
  },
  "orig_nbformat": 4,
  "vscode": {
   "interpreter": {
    "hash": "722949c11c1062be71c011a99f617ef2cb85f305dcd033156e357c49092a513e"
   }
  }
 },
 "nbformat": 4,
 "nbformat_minor": 2
}
