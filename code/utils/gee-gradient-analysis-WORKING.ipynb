{
 "cells": [
  {
   "cell_type": "code",
   "execution_count": 9,
   "metadata": {},
   "outputs": [],
   "source": [
    "import ee\n",
    "# Initialize ee and authenticate \n",
    "#ee.Authenticate()\n",
    "ee.Initialize()"
   ]
  },
  {
   "cell_type": "code",
   "execution_count": 10,
   "metadata": {},
   "outputs": [],
   "source": [
    "import math\n",
    "import geemap\n",
    "import numpy as np\n",
    "import pandas as pd\n",
    "import os"
   ]
  },
  {
   "cell_type": "code",
   "execution_count": 11,
   "metadata": {},
   "outputs": [],
   "source": [
    "## Bring in buffered range map as 'region' \n",
    "region = ee.FeatureCollection('projects/GEE_CSP/pf-bobwhite/bobwhite_model_states')\n",
    "geometry = ee.Feature(ee.FeatureCollection(region).first())\n",
    "conus_geom = ee.FeatureCollection(\"projects/GEE_CSP/thirty-by-thirty/aoi_conus\")\n",
    "conus_img = ee.Image(\"projects/GEE_CSP/thirty-by-thirty/aoi_conus_mask\")\n",
    "\n",
    "# export scale and projection\n",
    "# scale = 250\n",
    "projection = ee.Projection('EPSG:5070') # stand-in for now. Figure out best projection to use "
   ]
  },
  {
   "cell_type": "code",
   "execution_count": 12,
   "metadata": {},
   "outputs": [],
   "source": [
    "# Focal mean\n",
    "def focal_mean(image, radius, unit, name):\n",
    "    names = image.bandNames().getInfo()\n",
    "    new_names = [s + name for s in names]\n",
    "    return image.reduceNeighborhood(kernel = ee.Kernel.circle(radius, unit),\n",
    "                                    reducer = ee.Reducer.mean()).rename(new_names)\n",
    "\n",
    "# Focal median\n",
    "def focal_median(image, radius, unit):\n",
    "    return image.reduceNeighborhood(kernel = ee.Kernel.circle(radius, unit),\n",
    "                                    reducer = ee.Reducer.median())\n",
    "    \n",
    "# Focal SD\n",
    "def focal_sd(image, radius, unit):\n",
    "    return image.reduceNeighborhood(kernel = ee.Kernel.circle(radius, unit),\n",
    "                                    reducer = ee.Reducer.stdDev())\n",
    "\n",
    "# Define a function to calculate the absolute deviation of values from the mean within the window - window size is in meters \n",
    "def surface_sa(image, window_size, name):\n",
    "    names = image.bandNames().getInfo()\n",
    "    new_names = [s + name for s in names]\n",
    "    kernel = ee.Kernel.circle(radius=window_size, units='meters')\n",
    "    mean = image.reduceNeighborhood(ee.Reducer.mean(), kernel)\n",
    "    deviation = image.subtract(mean)\n",
    "    absolute_deviation = deviation.abs()\n",
    "    return absolute_deviation.reduceNeighborhood(ee.Reducer.mean(), kernel).rename(new_names)\n"
   ]
  },
  {
   "cell_type": "code",
   "execution_count": 14,
   "metadata": {},
   "outputs": [
    {
     "name": "stdout",
     "output_type": "stream",
     "text": [
      "rap_cover_2019 Band names: ['2016_AFG', '2016_PFG', '2016_SHR', '2016_TRE', '2016_BGR', '2017_AFG', '2017_PFG', '2017_SHR', '2017_TRE', '2017_BGR', '2018_AFG', '2018_PFG', '2018_SHR', '2018_TRE', '2018_BGR', '2019_AFG', '2019_PFG', '2019_SHR', '2019_TRE', '2019_BGR', '2021_AFG', '2021_PFG', '2021_SHR', '2021_TRE', '2021_BGR']\n"
     ]
    }
   ],
   "source": [
    "geometry = ee.Feature(ee.FeatureCollection(\"projects/GEE_CSP/pf-bobwhite/bobwhite_model_states\").first());\n",
    "##---------- Define the years that you want to export --------------\n",
    "##---------- End year is inclusive in this case  ------------------\n",
    "yearStart = 2016\n",
    "yearEnd = 2021\n",
    "\n",
    "## -------------- Define the plant functional types (PFTs) that you want to export --------------\n",
    "## PFTs are \"AFGC\" (Annual forb and grass cover), \"BG\" (bare ground), \"LTR\" (litter), \n",
    "## \"PFGC\" (perennial forb and grass cover), \"SHR\" (shrub cover), and \"TREE\" (tree cover)\n",
    "## Select Annual forb and grass cover, perennial forb and grass cover, shrub cover, and tree cover \n",
    "PFTs = ee.List(['AFG', 'PFG', 'SHR', 'TRE', 'BGR']);\n",
    "\n",
    "cover = ee.ImageCollection(\"projects/rangeland-analysis-platform/vegetation-cover-v3\")\n",
    "## ------------- Select the PFTs for processing as defined by User  --------------\n",
    "cover_toExport = cover.select(PFTs)\n",
    "\n",
    "\n",
    "### Filter RAP cover ImageCollection into yearly sets\n",
    "rap_cover_2016 = cover_toExport.filter(ee.Filter.inList('year', ee.List([2016]))).toBands()\n",
    "rap_cover_2017 = cover_toExport.filter(ee.Filter.inList('year', ee.List([2017]))).toBands()\n",
    "rap_cover_2018 = cover_toExport.filter(ee.Filter.inList('year', ee.List([2018]))).toBands()\n",
    "rap_cover_2019 = cover_toExport.filter(ee.Filter.inList('year', ee.List([2019]))).toBands()\n",
    "rap_cover_2021 = cover_toExport.filter(ee.Filter.inList('year', ee.List([2021]))).toBands()\n",
    "\n",
    "### Combine all into single multiband image \n",
    "rap_cover_all = ee.Image([rap_cover_2016, rap_cover_2017, rap_cover_2018, rap_cover_2019, rap_cover_2021])\n",
    "\n",
    "rap_cover_all_band_names = rap_cover_all.bandNames()\n",
    "print('rap_cover_2019 Band names:', rap_cover_all_band_names.getInfo())  # ee.List of band names\n"
   ]
  },
  {
   "cell_type": "code",
   "execution_count": 21,
   "metadata": {},
   "outputs": [
    {
     "name": "stdout",
     "output_type": "stream",
     "text": [
      "sa_img_band_names: ['2016_AFG_5km_sa', '2016_PFG_5km_sa', '2016_SHR_5km_sa', '2016_TRE_5km_sa', '2016_BGR_5km_sa', '2017_AFG_5km_sa', '2017_PFG_5km_sa', '2017_SHR_5km_sa', '2017_TRE_5km_sa', '2017_BGR_5km_sa', '2018_AFG_5km_sa', '2018_PFG_5km_sa', '2018_SHR_5km_sa', '2018_TRE_5km_sa', '2018_BGR_5km_sa', '2019_AFG_5km_sa', '2019_PFG_5km_sa', '2019_SHR_5km_sa', '2019_TRE_5km_sa', '2019_BGR_5km_sa', '2021_AFG_5km_sa', '2021_PFG_5km_sa', '2021_SHR_5km_sa', '2021_TRE_5km_sa', '2021_BGR_5km_sa']\n"
     ]
    }
   ],
   "source": [
    "# Map the function over the image collection\n",
    "sa_img = surface_sa(rap_cover_all, 5000, \"_5km_sa\").clip(geometry)\n",
    "\n",
    "sa_img_band_names = sa_img.bandNames()\n",
    "print('sa_img_band_names:', sa_img_band_names.getInfo())  # ee.List of band names"
   ]
  },
  {
   "cell_type": "code",
   "execution_count": 22,
   "metadata": {},
   "outputs": [
    {
     "data": {
      "application/vnd.jupyter.widget-view+json": {
       "model_id": "cc43ba2cab9744e291893a4d783b2be8",
       "version_major": 2,
       "version_minor": 0
      },
      "text/plain": [
       "Map(center=[40, -100], controls=(WidgetControl(options=['position', 'transparent_bg'], widget=HBox(children=(T…"
      ]
     },
     "metadata": {},
     "output_type": "display_data"
    },
    {
     "name": "stdout",
     "output_type": "stream",
     "text": [
      "Downloading WhiteboxTools pre-compiled binary for first time use ...\n",
      "Decompressing WhiteboxTools_darwin_amd64.zip ...\n",
      "WhiteboxTools package directory: /Users/patrickfreeman-csp/opt/miniconda3/lib/python3.9/site-packages/whitebox\n",
      "Downloading testdata ...\n"
     ]
    }
   ],
   "source": [
    "vis_params = {\n",
    "    'bands': '2019_AFG_5km_sa',\n",
    "    'min': 0,\n",
    "    'max': 50,\n",
    "    'palette': ['006633', 'E5FFCC', '662A00', 'D8D8D8', 'F5F5F5'],\n",
    "}\n",
    "## Plot to check \n",
    "Map = geemap.Map(center=(40, -100), zoom=4)\n",
    "Map.addLayer(sa_img, vis_params, \"Tree SA\", True)\n",
    "Map"
   ]
  }
 ],
 "metadata": {
  "kernelspec": {
   "display_name": "base",
   "language": "python",
   "name": "python3"
  },
  "language_info": {
   "codemirror_mode": {
    "name": "ipython",
    "version": 3
   },
   "file_extension": ".py",
   "mimetype": "text/x-python",
   "name": "python",
   "nbconvert_exporter": "python",
   "pygments_lexer": "ipython3",
   "version": "3.9.5"
  },
  "orig_nbformat": 4,
  "vscode": {
   "interpreter": {
    "hash": "722949c11c1062be71c011a99f617ef2cb85f305dcd033156e357c49092a513e"
   }
  }
 },
 "nbformat": 4,
 "nbformat_minor": 2
}
